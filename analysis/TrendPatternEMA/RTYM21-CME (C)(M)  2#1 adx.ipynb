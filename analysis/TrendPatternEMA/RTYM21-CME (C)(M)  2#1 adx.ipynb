{
 "metadata": {
  "language_info": {
   "codemirror_mode": {
    "name": "ipython",
    "version": 3
   },
   "file_extension": ".py",
   "mimetype": "text/x-python",
   "name": "python",
   "nbconvert_exporter": "python",
   "pygments_lexer": "ipython3",
   "version": "3.9.0-final"
  },
  "orig_nbformat": 2,
  "kernelspec": {
   "name": "python3",
   "display_name": "Python 3.9.0 64-bit",
   "metadata": {
    "interpreter": {
     "hash": "e2a7c3d20469dda411fd3211f02092a920078d1ca97c72d3dc7928b841d3a44a"
    }
   }
  }
 },
 "nbformat": 4,
 "nbformat_minor": 2,
 "cells": [
  {
   "cell_type": "code",
   "execution_count": 2,
   "metadata": {},
   "outputs": [],
   "source": [
    "import pandas as pd"
   ]
  },
  {
   "cell_type": "code",
   "execution_count": 10,
   "metadata": {},
   "outputs": [],
   "source": [
    "df = pd.read_csv(\"RTYM21-CME (C)(M)  2#1 adx.csv\")"
   ]
  },
  {
   "cell_type": "code",
   "execution_count": 14,
   "metadata": {},
   "outputs": [],
   "source": [
    "dfFiltered = df[df[\"pl\"] < 350]"
   ]
  },
  {
   "cell_type": "code",
   "execution_count": 49,
   "metadata": {},
   "outputs": [],
   "source": [
    "dfADXHigh = dfFiltered[dfFiltered[\"adx\"] > 40]"
   ]
  },
  {
   "cell_type": "code",
   "execution_count": 50,
   "metadata": {},
   "outputs": [],
   "source": [
    "def getProfitFactor(df):\n",
    "    onlyProfit = df[df[\"pl\"] > 0]\n",
    "    totalProfit = onlyProfit[\"pl\"].sum()\n",
    "    onlyLoss = df[df[\"pl\"] < 0]\n",
    "    totalLoss = onlyLoss[\"pl\"].sum()\n",
    "    return abs(totalProfit/totalLoss)"
   ]
  },
  {
   "cell_type": "code",
   "execution_count": 51,
   "metadata": {},
   "outputs": [
    {
     "output_type": "execute_result",
     "data": {
      "text/plain": [
       "1.1186873290793071"
      ]
     },
     "metadata": {},
     "execution_count": 51
    }
   ],
   "source": [
    "getProfitFactor(dfADXHigh)"
   ]
  },
  {
   "cell_type": "code",
   "execution_count": 56,
   "metadata": {},
   "outputs": [
    {
     "output_type": "stream",
     "name": "stdout",
     "text": [
      "0.962036810448088 5\n",
      "0.962036810448088 6\n",
      "0.9618424357975149 7\n",
      "0.9617350062185448 8\n",
      "0.9598154275669527 9\n",
      "0.9591900657109111 10\n",
      "0.9567645841952834 11\n",
      "0.9621568776997372 12\n",
      "0.9637887088741101 13\n",
      "0.9554027920232382 14\n",
      "0.9528464244839133 15\n",
      "0.9571030176127783 16\n",
      "0.959835470602468 17\n",
      "0.9736295493542853 18\n",
      "0.9797144446504729 19\n",
      "0.9956654979155738 20\n",
      "0.9899793738263092 21\n",
      "0.9687180604192148 22\n",
      "0.9598820282073581 23\n",
      "0.9317650034781509 24\n",
      "0.9192504338852666 25\n",
      "0.9335066864784547 26\n",
      "0.9318054283942231 27\n",
      "0.9143805237047015 28\n",
      "0.9214414679980839 29\n",
      "0.9188107971533246 30\n",
      "0.9679917651095534 31\n",
      "0.9816308243727598 32\n",
      "1.010545267489712 33\n",
      "1.0485503386348072 34\n",
      "1.0547338588256132 35\n",
      "1.0648593350383633 36\n",
      "1.0657986514764008 37\n",
      "1.1325913712558395 38\n",
      "1.127602097568727 39\n",
      "1.1186873290793071 40\n",
      "1.0410113478001195 41\n",
      "1.0297498309668696 42\n",
      "1.05986013986014 43\n",
      "1.0720779220779222 44\n",
      "1.1035258814703677 45\n",
      "1.0458793542905693 46\n",
      "0.9841269841269841 47\n",
      "0.8799062683069713 48\n",
      "1.0660727542687454 49\n",
      "0.9226475279106858 50\n",
      "0.9427272727272727 51\n",
      "1.0689277899343546 52\n",
      "1.0486842105263159 53\n",
      "0.8812589413447782 54\n",
      "0.9669565217391304 55\n",
      "0.734375 56\n",
      "0.7022222222222222 57\n",
      "0.6597938144329897 58\n",
      "0.6012269938650306 59\n",
      "0.6644067796610169 60\n",
      "0.7424242424242424 61\n",
      "0.8047337278106509 62\n",
      "0.5507246376811594 63\n",
      "0.8351648351648352 64\n",
      "0.6703296703296703 65\n",
      "0.6703296703296703 66\n",
      "0.0 67\n",
      "nan 68\n",
      "nan 69\n",
      "<ipython-input-50-4244a128db6d>:6: RuntimeWarning: invalid value encountered in longlong_scalars\n",
      "  return abs(totalProfit/totalLoss)\n",
      "<ipython-input-50-4244a128db6d>:6: RuntimeWarning: invalid value encountered in longlong_scalars\n",
      "  return abs(totalProfit/totalLoss)\n"
     ]
    }
   ],
   "source": [
    "for i in range(5, 70):\n",
    "    dfADXHigh = dfFiltered[dfFiltered[\"adx\"] > i]\n",
    "    print(getProfitFactor(dfADXHigh), i)"
   ]
  },
  {
   "cell_type": "code",
   "execution_count": null,
   "metadata": {},
   "outputs": [],
   "source": []
  },
  {
   "cell_type": "code",
   "execution_count": null,
   "metadata": {},
   "outputs": [],
   "source": []
  }
 ]
}